{
 "cells": [
  {
   "cell_type": "code",
   "execution_count": 2,
   "id": "d30f4e8d",
   "metadata": {},
   "outputs": [],
   "source": [
    "import polars as pl\n",
    "from polars import col"
   ]
  },
  {
   "cell_type": "code",
   "execution_count": 4,
   "id": "7a73640b",
   "metadata": {},
   "outputs": [],
   "source": [
    "reviews = pl.read_ndjson(\"Data/Yelp JSON/yelp_academic_dataset_review.json\")"
   ]
  },
  {
   "cell_type": "code",
   "execution_count": 5,
   "id": "f64805b5",
   "metadata": {},
   "outputs": [
    {
     "data": {
      "text/html": [
       "<div><style>\n",
       ".dataframe > thead > tr,\n",
       ".dataframe > tbody > tr {\n",
       "  text-align: right;\n",
       "  white-space: pre-wrap;\n",
       "}\n",
       "</style>\n",
       "<small>shape: (5, 9)</small><table border=\"1\" class=\"dataframe\"><thead><tr><th>review_id</th><th>user_id</th><th>business_id</th><th>stars</th><th>useful</th><th>funny</th><th>cool</th><th>text</th><th>date</th></tr><tr><td>str</td><td>str</td><td>str</td><td>f64</td><td>i64</td><td>i64</td><td>i64</td><td>str</td><td>str</td></tr></thead><tbody><tr><td>&quot;KU_O5udG6zpxOg-VcAEodg&quot;</td><td>&quot;mh_-eMZ6K5RLWhZyISBhwA&quot;</td><td>&quot;XQfwVwDr-v0ZS3_CbbE5Xw&quot;</td><td>3.0</td><td>0</td><td>0</td><td>0</td><td>&quot;If you decide to eat here, jus…</td><td>&quot;2018-07-07 22:09:11&quot;</td></tr><tr><td>&quot;BiTunyQ73aT9WBnpR9DZGw&quot;</td><td>&quot;OyoGAe7OKpv6SyGZT5g77Q&quot;</td><td>&quot;7ATYjTIgM3jUlt4UM3IypQ&quot;</td><td>5.0</td><td>1</td><td>0</td><td>1</td><td>&quot;I&#x27;ve taken a lot of spin class…</td><td>&quot;2012-01-03 15:28:18&quot;</td></tr><tr><td>&quot;saUsX_uimxRlCVr67Z4Jig&quot;</td><td>&quot;8g_iMtfSiwikVnbP2etR0A&quot;</td><td>&quot;YjUWPpI6HXG530lwP-fb2A&quot;</td><td>3.0</td><td>0</td><td>0</td><td>0</td><td>&quot;Family diner. Had the buffet. …</td><td>&quot;2014-02-05 20:30:30&quot;</td></tr><tr><td>&quot;AqPFMleE6RsU23_auESxiA&quot;</td><td>&quot;_7bHUi9Uuf5__HHc_Q8guQ&quot;</td><td>&quot;kxX2SOes4o-D3ZQBkiMRfA&quot;</td><td>5.0</td><td>1</td><td>0</td><td>1</td><td>&quot;Wow!&nbsp;&nbsp;Yummy, different,&nbsp;&nbsp;delic…</td><td>&quot;2015-01-04 00:01:03&quot;</td></tr><tr><td>&quot;Sx8TMOWLNuJBWer-0pcmoA&quot;</td><td>&quot;bcjbaE6dDog4jkNY91ncLQ&quot;</td><td>&quot;e4Vwtrqf-wpJfwesgvdgxQ&quot;</td><td>4.0</td><td>1</td><td>0</td><td>1</td><td>&quot;Cute interior and owner (?) ga…</td><td>&quot;2017-01-14 20:54:15&quot;</td></tr></tbody></table></div>"
      ],
      "text/plain": [
       "shape: (5, 9)\n",
       "┌──────────────┬──────────────┬─────────────┬───────┬───┬───────┬──────┬─────────────┬─────────────┐\n",
       "│ review_id    ┆ user_id      ┆ business_id ┆ stars ┆ … ┆ funny ┆ cool ┆ text        ┆ date        │\n",
       "│ ---          ┆ ---          ┆ ---         ┆ ---   ┆   ┆ ---   ┆ ---  ┆ ---         ┆ ---         │\n",
       "│ str          ┆ str          ┆ str         ┆ f64   ┆   ┆ i64   ┆ i64  ┆ str         ┆ str         │\n",
       "╞══════════════╪══════════════╪═════════════╪═══════╪═══╪═══════╪══════╪═════════════╪═════════════╡\n",
       "│ KU_O5udG6zpx ┆ mh_-eMZ6K5RL ┆ XQfwVwDr-v0 ┆ 3.0   ┆ … ┆ 0     ┆ 0    ┆ If you      ┆ 2018-07-07  │\n",
       "│ Og-VcAEodg   ┆ WhZyISBhwA   ┆ ZS3_CbbE5Xw ┆       ┆   ┆       ┆      ┆ decide to   ┆ 22:09:11    │\n",
       "│              ┆              ┆             ┆       ┆   ┆       ┆      ┆ eat here,   ┆             │\n",
       "│              ┆              ┆             ┆       ┆   ┆       ┆      ┆ jus…        ┆             │\n",
       "│ BiTunyQ73aT9 ┆ OyoGAe7OKpv6 ┆ 7ATYjTIgM3j ┆ 5.0   ┆ … ┆ 0     ┆ 1    ┆ I've taken  ┆ 2012-01-03  │\n",
       "│ WBnpR9DZGw   ┆ SyGZT5g77Q   ┆ Ult4UM3IypQ ┆       ┆   ┆       ┆      ┆ a lot of    ┆ 15:28:18    │\n",
       "│              ┆              ┆             ┆       ┆   ┆       ┆      ┆ spin class… ┆             │\n",
       "│ saUsX_uimxRl ┆ 8g_iMtfSiwik ┆ YjUWPpI6HXG ┆ 3.0   ┆ … ┆ 0     ┆ 0    ┆ Family      ┆ 2014-02-05  │\n",
       "│ CVr67Z4Jig   ┆ VnbP2etR0A   ┆ 530lwP-fb2A ┆       ┆   ┆       ┆      ┆ diner. Had  ┆ 20:30:30    │\n",
       "│              ┆              ┆             ┆       ┆   ┆       ┆      ┆ the buffet. ┆             │\n",
       "│              ┆              ┆             ┆       ┆   ┆       ┆      ┆ …           ┆             │\n",
       "│ AqPFMleE6RsU ┆ _7bHUi9Uuf5_ ┆ kxX2SOes4o- ┆ 5.0   ┆ … ┆ 0     ┆ 1    ┆ Wow!        ┆ 2015-01-04  │\n",
       "│ 23_auESxiA   ┆ _HHc_Q8guQ   ┆ D3ZQBkiMRfA ┆       ┆   ┆       ┆      ┆ Yummy,      ┆ 00:01:03    │\n",
       "│              ┆              ┆             ┆       ┆   ┆       ┆      ┆ different,  ┆             │\n",
       "│              ┆              ┆             ┆       ┆   ┆       ┆      ┆ delic…      ┆             │\n",
       "│ Sx8TMOWLNuJB ┆ bcjbaE6dDog4 ┆ e4Vwtrqf-wp ┆ 4.0   ┆ … ┆ 0     ┆ 1    ┆ Cute        ┆ 2017-01-14  │\n",
       "│ Wer-0pcmoA   ┆ jkNY91ncLQ   ┆ JfwesgvdgxQ ┆       ┆   ┆       ┆      ┆ interior    ┆ 20:54:15    │\n",
       "│              ┆              ┆             ┆       ┆   ┆       ┆      ┆ and owner   ┆             │\n",
       "│              ┆              ┆             ┆       ┆   ┆       ┆      ┆ (?) ga…     ┆             │\n",
       "└──────────────┴──────────────┴─────────────┴───────┴───┴───────┴──────┴─────────────┴─────────────┘"
      ]
     },
     "execution_count": 5,
     "metadata": {},
     "output_type": "execute_result"
    }
   ],
   "source": [
    "reviews.head()"
   ]
  },
  {
   "cell_type": "code",
   "execution_count": 24,
   "id": "cd84e597",
   "metadata": {},
   "outputs": [
    {
     "name": "stdout",
     "output_type": "stream",
     "text": [
      "shape: (5, 3)\n",
      "┌───────┬─────────┬────────────┐\n",
      "│ stars ┆ count   ┆ percentage │\n",
      "│ ---   ┆ ---     ┆ ---        │\n",
      "│ f64   ┆ u32     ┆ f64        │\n",
      "╞═══════╪═════════╪════════════╡\n",
      "│ 5.0   ┆ 3231627 ┆ 46.23      │\n",
      "│ 4.0   ┆ 1452918 ┆ 20.78      │\n",
      "│ 3.0   ┆ 691934  ┆ 9.9        │\n",
      "│ 2.0   ┆ 544240  ┆ 7.79       │\n",
      "│ 1.0   ┆ 1069561 ┆ 15.3       │\n",
      "└───────┴─────────┴────────────┘\n",
      "Average Stars: 3.74858374771826\n"
     ]
    }
   ],
   "source": [
    "# Distribution of Review Stars\n",
    "stars_distribution = reviews.group_by(\"stars\").agg(pl.len().alias(\"count\")).sort(\"stars\", descending=True)\n",
    "# As percentage\n",
    "stars_distribution = stars_distribution.with_columns(\n",
    "    (col(\"count\") / col(\"count\").sum() * 100).round(2).alias(\"percentage\")\n",
    ")\n",
    "print(stars_distribution)\n",
    "print(f\"Average Stars: {reviews['stars'].mean()}\")"
   ]
  },
  {
   "cell_type": "code",
   "execution_count": 25,
   "id": "28a50933",
   "metadata": {},
   "outputs": [
    {
     "data": {
      "text/html": [
       "<div><style>\n",
       ".dataframe > thead > tr,\n",
       ".dataframe > tbody > tr {\n",
       "  text-align: right;\n",
       "  white-space: pre-wrap;\n",
       "}\n",
       "</style>\n",
       "<small>shape: (5, 14)</small><table border=\"1\" class=\"dataframe\"><thead><tr><th>business_id</th><th>name</th><th>address</th><th>city</th><th>state</th><th>postal_code</th><th>latitude</th><th>longitude</th><th>stars</th><th>review_count</th><th>is_open</th><th>attributes</th><th>categories</th><th>hours</th></tr><tr><td>str</td><td>str</td><td>str</td><td>str</td><td>str</td><td>str</td><td>f64</td><td>f64</td><td>f64</td><td>i64</td><td>i64</td><td>struct[33]</td><td>str</td><td>struct[7]</td></tr></thead><tbody><tr><td>&quot;Pns2l4eNsfO8kk83dixA6A&quot;</td><td>&quot;Abby Rappoport, LAC, CMQ&quot;</td><td>&quot;1616 Chapala St, Ste 2&quot;</td><td>&quot;Santa Barbara&quot;</td><td>&quot;CA&quot;</td><td>&quot;93101&quot;</td><td>34.426679</td><td>-119.711197</td><td>5.0</td><td>7</td><td>0</td><td>{null,null,null,null,null,null,null,null,null,null,null,&quot;True&quot;,null,null,null,null,null,null,null,null,null,null,null,null,null,null,null,null,null,null,null,null,null}</td><td>&quot;Doctors, Traditional Chinese M…</td><td>null</td></tr><tr><td>&quot;mpf3x-BjTdTEA3yCZrAYPw&quot;</td><td>&quot;The UPS Store&quot;</td><td>&quot;87 Grasso Plaza Shopping Cente…</td><td>&quot;Affton&quot;</td><td>&quot;MO&quot;</td><td>&quot;63123&quot;</td><td>38.551126</td><td>-90.335695</td><td>3.0</td><td>15</td><td>1</td><td>{null,&quot;True&quot;,null,null,null,null,null,null,null,null,null,null,null,null,null,null,null,null,null,null,null,null,null,null,null,null,null,null,null,null,null,null,null}</td><td>&quot;Shipping Centers, Local Servic…</td><td>{&quot;0:0-0:0&quot;,&quot;8:0-18:30&quot;,&quot;8:0-18:30&quot;,&quot;8:0-18:30&quot;,&quot;8:0-18:30&quot;,&quot;8:0-14:0&quot;,null}</td></tr><tr><td>&quot;tUFrWirKiKi_TAnsVWINQQ&quot;</td><td>&quot;Target&quot;</td><td>&quot;5255 E Broadway Blvd&quot;</td><td>&quot;Tucson&quot;</td><td>&quot;AZ&quot;</td><td>&quot;85711&quot;</td><td>32.223236</td><td>-110.880452</td><td>3.5</td><td>22</td><td>0</td><td>{&quot;{&#x27;garage&#x27;: False, &#x27;street&#x27;: False, &#x27;validated&#x27;: False, &#x27;lot&#x27;: True, &#x27;valet&#x27;: False}&quot;,&quot;True&quot;,null,&quot;False&quot;,&quot;False&quot;,&quot;False&quot;,&quot;False&quot;,null,null,null,&quot;2&quot;,&quot;False&quot;,&quot;False&quot;,&quot;False&quot;,null,null,&quot;False&quot;,&quot;u&#x27;no&#x27;&quot;,&quot;True&quot;,&quot;False&quot;,&quot;False&quot;,null,&quot;True&quot;,null,null,null,null,null,null,null,null,null,null}</td><td>&quot;Department Stores, Shopping, F…</td><td>{&quot;8:0-22:0&quot;,&quot;8:0-22:0&quot;,&quot;8:0-22:0&quot;,&quot;8:0-22:0&quot;,&quot;8:0-23:0&quot;,&quot;8:0-23:0&quot;,&quot;8:0-22:0&quot;}</td></tr><tr><td>&quot;MTSW4McQd7CbVtyjqoe9mw&quot;</td><td>&quot;St Honore Pastries&quot;</td><td>&quot;935 Race St&quot;</td><td>&quot;Philadelphia&quot;</td><td>&quot;PA&quot;</td><td>&quot;19107&quot;</td><td>39.955505</td><td>-75.155564</td><td>4.0</td><td>80</td><td>1</td><td>{&quot;{&#x27;garage&#x27;: False, &#x27;street&#x27;: True, &#x27;validated&#x27;: False, &#x27;lot&#x27;: False, &#x27;valet&#x27;: False}&quot;,&quot;False&quot;,null,&quot;False&quot;,null,&quot;True&quot;,&quot;True&quot;,&quot;u&#x27;none&#x27;&quot;,null,null,&quot;1&quot;,&quot;False&quot;,null,null,null,null,&quot;False&quot;,&quot;u&#x27;free&#x27;&quot;,null,null,null,null,&quot;True&quot;,null,null,null,null,null,null,null,null,null,null}</td><td>&quot;Restaurants, Food, Bubble Tea,…</td><td>{&quot;7:0-20:0&quot;,&quot;7:0-20:0&quot;,&quot;7:0-20:0&quot;,&quot;7:0-20:0&quot;,&quot;7:0-21:0&quot;,&quot;7:0-21:0&quot;,&quot;7:0-21:0&quot;}</td></tr><tr><td>&quot;mWMc6_wTdE0EUBKIGXDVfA&quot;</td><td>&quot;Perkiomen Valley Brewery&quot;</td><td>&quot;101 Walnut St&quot;</td><td>&quot;Green Lane&quot;</td><td>&quot;PA&quot;</td><td>&quot;18054&quot;</td><td>40.338183</td><td>-75.471659</td><td>4.5</td><td>13</td><td>1</td><td>{&quot;{&#x27;garage&#x27;: None, &#x27;street&#x27;: None, &#x27;validated&#x27;: None, &#x27;lot&#x27;: True, &#x27;valet&#x27;: False}&quot;,&quot;True&quot;,null,null,null,&quot;False&quot;,&quot;True&quot;,null,null,&quot;True&quot;,null,null,null,null,null,null,null,null,&quot;True&quot;,null,null,null,&quot;True&quot;,null,null,null,null,null,null,null,null,null,null}</td><td>&quot;Brewpubs, Breweries, Food&quot;</td><td>{null,null,&quot;14:0-22:0&quot;,&quot;16:0-22:0&quot;,&quot;12:0-22:0&quot;,&quot;12:0-22:0&quot;,&quot;12:0-18:0&quot;}</td></tr></tbody></table></div>"
      ],
      "text/plain": [
       "shape: (5, 14)\n",
       "┌────────────┬───────────┬───────────┬───────────┬───┬─────────┬───────────┬───────────┬───────────┐\n",
       "│ business_i ┆ name      ┆ address   ┆ city      ┆ … ┆ is_open ┆ attribute ┆ categorie ┆ hours     │\n",
       "│ d          ┆ ---       ┆ ---       ┆ ---       ┆   ┆ ---     ┆ s         ┆ s         ┆ ---       │\n",
       "│ ---        ┆ str       ┆ str       ┆ str       ┆   ┆ i64     ┆ ---       ┆ ---       ┆ struct[7] │\n",
       "│ str        ┆           ┆           ┆           ┆   ┆         ┆ struct[33 ┆ str       ┆           │\n",
       "│            ┆           ┆           ┆           ┆   ┆         ┆ ]         ┆           ┆           │\n",
       "╞════════════╪═══════════╪═══════════╪═══════════╪═══╪═════════╪═══════════╪═══════════╪═══════════╡\n",
       "│ Pns2l4eNsf ┆ Abby Rapp ┆ 1616      ┆ Santa     ┆ … ┆ 0       ┆ {null,nul ┆ Doctors,  ┆ null      │\n",
       "│ O8kk83dixA ┆ oport,    ┆ Chapala   ┆ Barbara   ┆   ┆         ┆ l,null,nu ┆ Tradition ┆           │\n",
       "│ 6A         ┆ LAC, CMQ  ┆ St, Ste 2 ┆           ┆   ┆         ┆ ll,null,n ┆ al        ┆           │\n",
       "│            ┆           ┆           ┆           ┆   ┆         ┆ ull…      ┆ Chinese   ┆           │\n",
       "│            ┆           ┆           ┆           ┆   ┆         ┆           ┆ M…        ┆           │\n",
       "│ mpf3x-BjTd ┆ The UPS   ┆ 87 Grasso ┆ Affton    ┆ … ┆ 1       ┆ {null,\"Tr ┆ Shipping  ┆ {\"0:0-0:0 │\n",
       "│ TEA3yCZrAY ┆ Store     ┆ Plaza     ┆           ┆   ┆         ┆ ue\",null, ┆ Centers,  ┆ \",\"8:0-18 │\n",
       "│ Pw         ┆           ┆ Shopping  ┆           ┆   ┆         ┆ null,null ┆ Local     ┆ :30\",\"8:0 │\n",
       "│            ┆           ┆ Cente…    ┆           ┆   ┆         ┆ ,nu…      ┆ Servic…   ┆ -18…      │\n",
       "│ tUFrWirKiK ┆ Target    ┆ 5255 E    ┆ Tucson    ┆ … ┆ 0       ┆ {\"{'garag ┆ Departmen ┆ {\"8:0-22: │\n",
       "│ i_TAnsVWIN ┆           ┆ Broadway  ┆           ┆   ┆         ┆ e':       ┆ t Stores, ┆ 0\",\"8:0-2 │\n",
       "│ QQ         ┆           ┆ Blvd      ┆           ┆   ┆         ┆ False,    ┆ Shopping, ┆ 2:0\",\"8:0 │\n",
       "│            ┆           ┆           ┆           ┆   ┆         ┆ 'street': ┆ F…        ┆ -22…      │\n",
       "│            ┆           ┆           ┆           ┆   ┆         ┆ …         ┆           ┆           │\n",
       "│ MTSW4McQd7 ┆ St Honore ┆ 935 Race  ┆ Philadelp ┆ … ┆ 1       ┆ {\"{'garag ┆ Restauran ┆ {\"7:0-20: │\n",
       "│ CbVtyjqoe9 ┆ Pastries  ┆ St        ┆ hia       ┆   ┆         ┆ e':       ┆ ts, Food, ┆ 0\",\"7:0-2 │\n",
       "│ mw         ┆           ┆           ┆           ┆   ┆         ┆ False,    ┆ Bubble    ┆ 0:0\",\"7:0 │\n",
       "│            ┆           ┆           ┆           ┆   ┆         ┆ 'street': ┆ Tea,…     ┆ -20…      │\n",
       "│            ┆           ┆           ┆           ┆   ┆         ┆ …         ┆           ┆           │\n",
       "│ mWMc6_wTdE ┆ Perkiomen ┆ 101       ┆ Green     ┆ … ┆ 1       ┆ {\"{'garag ┆ Brewpubs, ┆ {null,nul │\n",
       "│ 0EUBKIGXDV ┆ Valley    ┆ Walnut St ┆ Lane      ┆   ┆         ┆ e': None, ┆ Breweries ┆ l,\"14:0-2 │\n",
       "│ fA         ┆ Brewery   ┆           ┆           ┆   ┆         ┆ 'street': ┆ , Food    ┆ 2:0\",\"16: │\n",
       "│            ┆           ┆           ┆           ┆   ┆         ┆ N…        ┆           ┆ 0-2…      │\n",
       "└────────────┴───────────┴───────────┴───────────┴───┴─────────┴───────────┴───────────┴───────────┘"
      ]
     },
     "execution_count": 25,
     "metadata": {},
     "output_type": "execute_result"
    }
   ],
   "source": [
    "businesses = pl.read_ndjson(\"./Data/Yelp JSON/yelp_academic_dataset_business.json\")\n",
    "businesses.head()"
   ]
  },
  {
   "cell_type": "code",
   "execution_count": 23,
   "id": "38900fd0",
   "metadata": {},
   "outputs": [
    {
     "data": {
      "text/html": [
       "<div><style>\n",
       ".dataframe > thead > tr,\n",
       ".dataframe > tbody > tr {\n",
       "  text-align: right;\n",
       "  white-space: pre-wrap;\n",
       "}\n",
       "</style>\n",
       "<small>shape: (2, 9)</small><table border=\"1\" class=\"dataframe\"><thead><tr><th>column_0</th><th>column_1</th><th>column_2</th><th>column_3</th><th>column_4</th><th>column_5</th><th>column_6</th><th>column_7</th><th>column_8</th></tr><tr><td>str</td><td>str</td><td>str</td><td>str</td><td>str</td><td>str</td><td>str</td><td>str</td><td>str</td></tr></thead><tbody><tr><td>&quot;count&quot;</td><td>&quot;null_count&quot;</td><td>&quot;mean&quot;</td><td>&quot;std&quot;</td><td>&quot;min&quot;</td><td>&quot;25%&quot;</td><td>&quot;50%&quot;</td><td>&quot;75%&quot;</td><td>&quot;max&quot;</td></tr><tr><td>&quot;150346.0&quot;</td><td>&quot;0.0&quot;</td><td>&quot;44.86656113232144&quot;</td><td>&quot;121.12013570117078&quot;</td><td>&quot;5.0&quot;</td><td>&quot;8.0&quot;</td><td>&quot;15.0&quot;</td><td>&quot;37.0&quot;</td><td>&quot;7568.0&quot;</td></tr></tbody></table></div>"
      ],
      "text/plain": [
       "shape: (2, 9)\n",
       "┌──────────┬────────────┬─────────────┬────────────┬───┬──────────┬──────────┬──────────┬──────────┐\n",
       "│ column_0 ┆ column_1   ┆ column_2    ┆ column_3   ┆ … ┆ column_5 ┆ column_6 ┆ column_7 ┆ column_8 │\n",
       "│ ---      ┆ ---        ┆ ---         ┆ ---        ┆   ┆ ---      ┆ ---      ┆ ---      ┆ ---      │\n",
       "│ str      ┆ str        ┆ str         ┆ str        ┆   ┆ str      ┆ str      ┆ str      ┆ str      │\n",
       "╞══════════╪════════════╪═════════════╪════════════╪═══╪══════════╪══════════╪══════════╪══════════╡\n",
       "│ count    ┆ null_count ┆ mean        ┆ std        ┆ … ┆ 25%      ┆ 50%      ┆ 75%      ┆ max      │\n",
       "│ 150346.0 ┆ 0.0        ┆ 44.86656113 ┆ 121.120135 ┆ … ┆ 8.0      ┆ 15.0     ┆ 37.0     ┆ 7568.0   │\n",
       "│          ┆            ┆ 232144      ┆ 70117078   ┆   ┆          ┆          ┆          ┆          │\n",
       "└──────────┴────────────┴─────────────┴────────────┴───┴──────────┴──────────┴──────────┴──────────┘"
      ]
     },
     "execution_count": 23,
     "metadata": {},
     "output_type": "execute_result"
    }
   ],
   "source": [
    "businesses.select(\n",
    "    col(\"review_count\")\n",
    ").describe().transpose()"
   ]
  },
  {
   "cell_type": "code",
   "execution_count": 28,
   "id": "023d918b",
   "metadata": {},
   "outputs": [
    {
     "data": {
      "text/html": [
       "<div><style>\n",
       ".dataframe > thead > tr,\n",
       ".dataframe > tbody > tr {\n",
       "  text-align: right;\n",
       "  white-space: pre-wrap;\n",
       "}\n",
       "</style>\n",
       "<small>shape: (10, 4)</small><table border=\"1\" class=\"dataframe\"><thead><tr><th>name</th><th>avg_rating</th><th>review_count</th><th>bayesian_score</th></tr><tr><td>str</td><td>f64</td><td>i64</td><td>f64</td></tr></thead><tbody><tr><td>&quot;Abby Rappoport, LAC, CMQ&quot;</td><td>5.0</td><td>7</td><td>4.147727</td></tr><tr><td>&quot;Perkiomen Valley Brewery&quot;</td><td>4.5</td><td>13</td><td>4.098214</td></tr><tr><td>&quot;St Honore Pastries&quot;</td><td>4.0</td><td>80</td><td>3.960526</td></tr><tr><td>&quot;Temple Beth-El&quot;</td><td>3.5</td><td>5</td><td>3.6875</td></tr><tr><td>&quot;Target&quot;</td><td>3.5</td><td>22</td><td>3.601351</td></tr><tr><td>&quot;The UPS Store&quot;</td><td>3.0</td><td>15</td><td>3.375</td></tr><tr><td>&quot;Tsevi&#x27;s Pub And Grill&quot;</td><td>3.0</td><td>19</td><td>3.330882</td></tr><tr><td>&quot;Sonic Drive-In&quot;</td><td>2.0</td><td>6</td><td>3.25</td></tr><tr><td>&quot;Famous Footwear&quot;</td><td>2.5</td><td>13</td><td>3.169643</td></tr><tr><td>&quot;Sonic Drive-In&quot;</td><td>1.5</td><td>10</td><td>2.85</td></tr></tbody></table></div>"
      ],
      "text/plain": [
       "shape: (10, 4)\n",
       "┌──────────────────────────┬────────────┬──────────────┬────────────────┐\n",
       "│ name                     ┆ avg_rating ┆ review_count ┆ bayesian_score │\n",
       "│ ---                      ┆ ---        ┆ ---          ┆ ---            │\n",
       "│ str                      ┆ f64        ┆ i64          ┆ f64            │\n",
       "╞══════════════════════════╪════════════╪══════════════╪════════════════╡\n",
       "│ Abby Rappoport, LAC, CMQ ┆ 5.0        ┆ 7            ┆ 4.147727       │\n",
       "│ Perkiomen Valley Brewery ┆ 4.5        ┆ 13           ┆ 4.098214       │\n",
       "│ St Honore Pastries       ┆ 4.0        ┆ 80           ┆ 3.960526       │\n",
       "│ Temple Beth-El           ┆ 3.5        ┆ 5            ┆ 3.6875         │\n",
       "│ Target                   ┆ 3.5        ┆ 22           ┆ 3.601351       │\n",
       "│ The UPS Store            ┆ 3.0        ┆ 15           ┆ 3.375          │\n",
       "│ Tsevi's Pub And Grill    ┆ 3.0        ┆ 19           ┆ 3.330882       │\n",
       "│ Sonic Drive-In           ┆ 2.0        ┆ 6            ┆ 3.25           │\n",
       "│ Famous Footwear          ┆ 2.5        ┆ 13           ┆ 3.169643       │\n",
       "│ Sonic Drive-In           ┆ 1.5        ┆ 10           ┆ 2.85           │\n",
       "└──────────────────────────┴────────────┴──────────────┴────────────────┘"
      ]
     },
     "execution_count": 28,
     "metadata": {},
     "output_type": "execute_result"
    }
   ],
   "source": [
    "prior_stars = 3.75 # Average rating across all businesses in training\n",
    "prior_conf = 15 # confidence, median number of reviews in training\n",
    "def bayesian_review_score(avg_rating: float, review_count: int) -> float:\n",
    "    \"\"\"\n",
    "    Calculate the Bayesian average rating.\n",
    "    \n",
    "    :param avg_rating: Average rating of the business.\n",
    "    :param review_count: Number of reviews for the business.\n",
    "    :param m: Minimum number of reviews to consider.\n",
    "    :return: Bayesian average rating.\n",
    "    \"\"\"\n",
    "    return (prior_stars*prior_conf + avg_rating*review_count) / (prior_conf + review_count)\n",
    "\n",
    "# Example for first 10 businesses\n",
    "businesses.select(\n",
    "    col(\"name\"),\n",
    "    col(\"stars\").alias(\"avg_rating\"),\n",
    "    col(\"review_count\")\n",
    ").with_columns(\n",
    "    bayesian_review_score(col(\"avg_rating\"), col(\"review_count\")).alias(\"bayesian_score\")\n",
    ").head(10).sort(\"bayesian_score\", descending=True)"
   ]
  }
 ],
 "metadata": {
  "kernelspec": {
   "display_name": "Python 3",
   "language": "python",
   "name": "python3"
  },
  "language_info": {
   "codemirror_mode": {
    "name": "ipython",
    "version": 3
   },
   "file_extension": ".py",
   "mimetype": "text/x-python",
   "name": "python",
   "nbconvert_exporter": "python",
   "pygments_lexer": "ipython3",
   "version": "3.12.3"
  }
 },
 "nbformat": 4,
 "nbformat_minor": 5
}
