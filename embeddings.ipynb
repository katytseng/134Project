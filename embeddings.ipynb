{
 "cells": [
  {
   "cell_type": "code",
   "execution_count": null,
   "id": "afeba95f",
   "metadata": {},
   "outputs": [],
   "source": [
    "import pandas as pd\n",
    "import numpy as np\n"
   ]
  },
  {
   "cell_type": "code",
   "execution_count": 3,
   "id": "4a338462",
   "metadata": {},
   "outputs": [],
   "source": [
    "# Census Data missing some places/states that did not have census info\n",
    "# census_full.csv includes those missing, but decided not to support those in model\n",
    "census_data = pd.read_csv(\"./Data/census.csv\", dtype={\n",
    "\t\"City\": str,\n",
    "\t\"State\": str,\n",
    "\t\"PlaceCode\": str,\n",
    "\t\"StateCode\": str,\n",
    "\t\"DP1_0025C\": float,\n",
    "\t\"DP1_0049C\": float,\n",
    "\t\"DP1_0001C\": float,\n",
    "\t\"DP1_0006P\": float,\n",
    "\t\"DP1_0007P\": float,\n",
    "\t\"DP1_0008P\": float,\n",
    "\t\"DP1_0009P\": float,\n",
    "\t\"DP1_0010P\": float,\n",
    "\t\"DP1_0011P\": float,\n",
    "\t\"DP1_0012P\": float,\n",
    "\t\"DP1_0013P\": float,\n",
    "\t\"DP1_0014P\": float,\n",
    "\t\"DP1_0015P\": float,\n",
    "\t\"DP1_0016P\": float,\n",
    "\t\"DP1_0017P\": float,\n",
    "\t\"DP1_0018P\": float,\n",
    "\t\"DP1_0019P\": float,\n",
    "\t\"DP1_0022P\": float,\n",
    "\t\"DP1_0078P\": float,\n",
    "\t\"DP1_0079P\": float,\n",
    "\t\"DP1_0081P\": float,\n",
    "\t\"DP1_0080P\": float,\n",
    "\t\"DP1_0082P\": float,\n",
    "\t\"DP1_0114P\": float,\n",
    "\t\"DP1_0120P\": float,\n",
    "\t\"DP1_0133P\": float,\n",
    "\t\"DP1_0134P\": float,\n",
    "\t\"DP1_0117P\": float,\n",
    "\t\"DP1_0118P\": float,\n",
    "\t\"DP1_0093P\": float,\n",
    "})"
   ]
  },
  {
   "cell_type": "code",
   "execution_count": 15,
   "id": "59fbe9f8",
   "metadata": {},
   "outputs": [],
   "source": [
    "yelp_data = pd.read_json(\"Data/Yelp JSON/yelp_academic_dataset_business.json\", lines=True) \n",
    "# Chose to ignore hours and attributes in mode, harder to get predicitve features\n",
    "yelp_data.drop([\"business_id\", \"address\", \"postal_code\", \"latitude\", \"longitude\", \"is_open\", \"attributes\", \"hours\"],\n",
    "               axis=1, inplace=True)"
   ]
  },
  {
   "cell_type": "code",
   "execution_count": 13,
   "id": "f0fba16d",
   "metadata": {},
   "outputs": [
    {
     "data": {
      "text/plain": [
       "Index(['city', 'state', 'stars', 'review_count', 'categories'], dtype='object')"
      ]
     },
     "execution_count": 13,
     "metadata": {},
     "output_type": "execute_result"
    }
   ],
   "source": [
    "yelp_data.columns"
   ]
  },
  {
   "cell_type": "code",
   "execution_count": 17,
   "id": "11cee12f",
   "metadata": {},
   "outputs": [],
   "source": [
    "IV_data = yelp_data[yelp_data[\"city\"] == \"Isla Vista\"]"
   ]
  },
  {
   "cell_type": "code",
   "execution_count": 20,
   "id": "9db97fac",
   "metadata": {},
   "outputs": [
    {
     "name": "stdout",
     "output_type": "stream",
     "text": [
      "California Tacos and Taproom: Mexican, Beer Bar, Bars, Sports Bars, Nightlife, Restaurants, Tacos\n",
      "Isla Vista Community Bike Center: Community Service/Non-Profit, Shopping, Local Services, Bike Rentals, Bikes, Bike Repair/Maintenance, Active Life, Sporting Goods\n",
      "Pho Bistro: Food, Restaurants, Chinese, Bubble Tea, Vietnamese\n",
      "Su’s Bowl: Chinese, Restaurants, Asian Fusion, Szechuan\n",
      "Wells Fargo Bank: Banks & Credit Unions, Financial Services\n",
      "Red Pepper Chinese Food Express: Restaurants, Fast Food, Chinese\n",
      "The Loop- Coastal Ridge: Real Estate Services, Apartments, Real Estate, Home Services\n",
      "Santorini Greek Island Grill: Mediterranean, Food, Restaurants, Greek, Specialty Food, Ethnic Food\n",
      "Subway: Restaurants, Sandwiches, Fast Food\n",
      "The Study Hall: Bars, Nightlife\n",
      "Wanderlust Hair Studio/Gallery: Blow Dry/Out Services, Men's Hair Salons, Beauty & Spas, Hair Salons, Hair Stylists\n",
      "Cajé Coffee Roasters - Isla Vista: Food, Internet Cafes, Coffee & Tea, Acai Bowls, Juice Bars & Smoothies, Bagels\n",
      "Kaptain's Firehouse BBQ: Food Delivery Services, Chicken Wings, Restaurants, Sandwiches, Food, American (New), Barbeque\n",
      "Mojo Asian Fusion Café: Comfort Food, Bubble Tea, Restaurants, Tea Rooms, Asian Fusion, Coffee & Tea, Food\n",
      "Phresh Teas  - IV location: Coffee & Tea, Bubble Tea, Food\n",
      "Kaiju: Food, Asian Fusion, Bubble Tea, Restaurants, Japanese\n",
      "Dank Bowl Kitchen: American (New), Food, Specialty Food, Restaurants\n",
      "Duke's Boxing and Fitness: Fitness & Instruction, Martial Arts, Gyms, Active Life, Boxing\n",
      "Chino's Rock & Tacos: Restaurants, Mexican\n",
      "The Tahitian Apartments: Home Services, Apartments, Real Estate\n",
      "IV Bookstore: Books, Mags, Music & Video, Shopping, Bookstores\n",
      "Firehouse Subs: Hot Dogs, Sandwiches, Fast Food, Restaurants, Delis, Cheesesteaks\n",
      "Little Asia: Japanese, Chinese, Korean, Asian Fusion, Restaurants\n",
      "St George & Associates: Real Estate, Property Management, University Housing, Apartments, Real Estate Agents, Home Services\n",
      "Silvergreens: Burgers, American (Traditional), Sandwiches, Restaurants, Salad, Soup, Breakfast & Brunch\n",
      "Woodstock's Pizza Isla Vista: Vegetarian, Gluten-Free, Pizza, Caterers, Restaurants, Event Planning & Services\n",
      "San Clemente Apartments: Graduate Student Housing: University Housing, Real Estate, Home Services\n",
      "Wild Side Smoke Shop: Tobacco Shops, Shopping, Head Shops, Vape Shops\n",
      "Rincon Brewery: Breweries, Restaurants, Nightlife, Bars, Food, Pubs, Pizza\n",
      "Precious Slut 3: Piercing, Tattoo, Shopping, Tobacco Shops, Jewelry, Beauty & Spas, Head Shops\n",
      "Starbucks: Restaurants, Food, Coffee & Tea\n",
      "Pita Pit: Greek, Mediterranean, Sandwiches, Vegetarian, Restaurants\n",
      "KOL'S: Food, Bagels, Cafes, Breakfast & Brunch, Sandwiches, Creperies, Restaurants\n",
      "IV Drip: Ice Cream & Frozen Yogurt, Coffee & Tea, Desserts, Restaurants, Food\n",
      "Icon: Real Estate, Home Services, Apartments\n",
      "781 EDN: Home Services, Apartments, Real Estate\n",
      "Pizza My Heart: Restaurants, Pizza\n",
      "Cantina: Mexican, Restaurants, Tacos\n",
      "South Coast Deli- Isla Vista: Restaurants, Food, Food Delivery Services, Sandwiches, Breakfast & Brunch, Delis, Salad\n",
      "Capri Apartments: University Housing, Apartments, Home Services, Real Estate\n",
      "The Habit: Burgers, Restaurants, Food\n",
      "The Loop Apartments: Home Services, Real Estate, Apartments\n",
      "Rosarito: Food, Food Delivery Services, Restaurants, Mexican\n",
      "Nicoletti's Cafe: Restaurants, Food, Coffee & Tea, Cafes\n",
      "The B Boutique: Eyelash Service, Tanning, Waxing, Spray Tanning, Hair Removal, Beauty & Spas\n",
      "Vons Chicken: Chicken Shop, Korean, Chicken Wings, Fast Food, American (New), Soul Food, Restaurants\n",
      "Jay C's Place: Restaurants, Chinese, Hot Pot, Pan Asian, Szechuan, Chicken Wings\n",
      "i-Caramba Mobile Smartphone and Tablet Repair: Shopping, Electronics, Mobile Phones, Vape Shops, IT Services & Computer Repair, Mobile Phone Repair, Electronics Repair, Local Services\n",
      "7-Eleven: Convenience Stores, Grocery, Coffee & Tea, Food\n",
      "SOS Liquor: Beer, Wine & Spirits, Food\n",
      "The New Tahitian: Real Estate, Home Services, Apartments\n",
      "Hanamura: Sushi Bars, Japanese, Restaurants\n",
      "Wake Cup: Desserts, Tea Rooms, Food, Juice Bars & Smoothies, Taiwanese, Chicken Wings, Bubble Tea, Hong Kong Style Cafe, Specialty Food, Coffee & Tea, Restaurants\n",
      "Crushcakes & Cafe: Food, Coffee & Tea, Restaurants, Cafes\n",
      "Cafe Int'l: Bagels, Coffee & Tea, Food, Specialty Food\n",
      "El Sitio: Food, Restaurants, Mexican\n",
      "Sorriso Italiano: Italian, Restaurants\n",
      "On the Side: American (Traditional), Restaurants\n",
      "John Edwards Salon: Beauty & Spas, Hair Salons\n",
      "Super Cucas: Ethnic Food, Specialty Food, Local Flavor, Mexican, Restaurants, Food, Breakfast & Brunch, Fast Food, Juice Bars & Smoothies\n",
      "Campus 880: Home Services, Real Estate, University Housing, Apartments\n",
      "Sam's To Go - Isla Vista: Bars, American (New), Sandwiches, Nightlife, Beer Bar, Restaurants\n",
      "Carrillo Dining Commons: Restaurants, Italian, Asian Fusion, Breakfast & Brunch, Delis, American (New), American (Traditional)\n",
      "Dogtown: Hot Dogs, Restaurants\n",
      "Aladdin Cafe: Arabic, Food, Sandwiches, Bars, Restaurants, Breakfast & Brunch, Hookah Bars, Greek, Salad, Nightlife, Middle Eastern, Mediterranean\n",
      "Wahoo's Fish Tacos: American (New), Mexican, Restaurants\n",
      "Mindbody Surf and Yoga School: Meditation Centers, Education, Summer Camps, Surfing, Yoga, Fitness & Instruction, Surf Shop, Active Life, Surf Schools, Shopping, Specialty Schools, Fashion, Swimming Lessons/Schools, Paddleboarding\n",
      "Berrilicious: Ice Cream & Frozen Yogurt, Food\n",
      "Kogilicious: Korean, Restaurants\n",
      "Hanamura Cantonese Dim Sum: Restaurants, Chinese, Dim Sum, Cantonese\n",
      "Hana Kitchen: Vegan, Asian Fusion, Bubble Tea, Restaurants, Japanese, Mexican, Tacos, Vegetarian, Food\n",
      "Bill's Bus: Tours, Party Bus Rentals, Bus Tours, Wine Tours, Wedding Planning, Hotels & Travel, Event Planning & Services, Nightlife, Bars\n",
      "Fat Mo's Burgers: Burgers, Restaurants\n",
      "Angry Wings: Restaurants, Specialty Food, Burgers, Food, Chicken Wings, Sandwiches, Food Delivery Services\n",
      "Coal Oil Point Reserve: Beaches, Active Life, Surfing, Hiking\n",
      "Movement Boardshop: Shopping, Sporting Goods\n",
      "Jimmy John's: Food, Delis, Sandwiches, Restaurants\n",
      "Spudnuts Donuts: Bagels, Bakeries, Food, Donuts\n",
      "Blend Me Tender: Food, Juice Bars & Smoothies, Acai Bowls\n",
      "Breakpointe & Coronado: Home Services, Apartments, Real Estate\n",
      "Keg 'n' Bottle: Beer, Wine & Spirits, Local Flavor, Grocery, Food\n",
      "Varsity Bike Shop: Bikes, Sporting Goods, Skate Shops, Shopping, Active Life, Surfing\n",
      "Blenders In the Grass: Juice Bars & Smoothies, American (Traditional), Food, Restaurants\n",
      "Dublin's Sports Grill: Nightlife, Restaurants, Sports Bars, Bars\n",
      "Dumpling King: Restaurants, Chinese\n",
      "Mr. Pickle's Sandwich Shop: Restaurants, Sandwiches\n",
      "Coffee Collaborative: Coffee & Tea, Food\n",
      "Freebirds: Salad, Restaurants, Tacos, Mexican, Breakfast & Brunch\n",
      "Naan Stop: Indian, Food, Restaurants, Bubble Tea, Pakistani, Fast Food\n",
      "Shave It: Food, Food Trucks, Shaved Ice, Ice Cream & Frozen Yogurt\n",
      "McMaster's Steak & Hoagie: Sandwiches, Pizza, Restaurants\n",
      "SBNC: Isla Vista Neighborhood Clinic: Family Practice, Health & Medical, Pediatricians, Medical Centers, Doctors\n",
      "Le Café: French, Coffee & Tea, Food, Restaurants, Breakfast & Brunch\n",
      "Kyle's Isla Vista: Restaurants, Burgers, Food, Ice Cream & Frozen Yogurt, American (Traditional), Salad\n"
     ]
    }
   ],
   "source": [
    "for row in IV_data.itertuples():\n",
    "    print(f\"{row.name}: {row.categories}\")"
   ]
  },
  {
   "cell_type": "code",
   "execution_count": 21,
   "id": "c1bba696",
   "metadata": {},
   "outputs": [
    {
     "name": "stderr",
     "output_type": "stream",
     "text": [
      "c:\\Users\\adamw\\AppData\\Local\\Programs\\Python\\Python312\\Lib\\site-packages\\tqdm\\auto.py:21: TqdmWarning: IProgress not found. Please update jupyter and ipywidgets. See https://ipywidgets.readthedocs.io/en/stable/user_install.html\n",
      "  from .autonotebook import tqdm as notebook_tqdm\n",
      "c:\\Users\\adamw\\AppData\\Local\\Programs\\Python\\Python312\\Lib\\site-packages\\huggingface_hub\\file_download.py:143: UserWarning: `huggingface_hub` cache-system uses symlinks by default to efficiently store duplicated files but your machine does not support them in C:\\Users\\adamw\\.cache\\huggingface\\hub\\models--sentence-transformers--all-MiniLM-L6-v2. Caching files will still work but in a degraded version that might require more space on your disk. This warning can be disabled by setting the `HF_HUB_DISABLE_SYMLINKS_WARNING` environment variable. For more details, see https://huggingface.co/docs/huggingface_hub/how-to-cache#limitations.\n",
      "To support symlinks on Windows, you either need to activate Developer Mode or to run Python as an administrator. In order to activate developer mode, see this article: https://docs.microsoft.com/en-us/windows/apps/get-started/enable-your-device-for-development\n",
      "  warnings.warn(message)\n",
      "Xet Storage is enabled for this repo, but the 'hf_xet' package is not installed. Falling back to regular HTTP download. For better performance, install the package with: `pip install huggingface_hub[hf_xet]` or `pip install hf_xet`\n"
     ]
    },
    {
     "name": "stdout",
     "output_type": "stream",
     "text": [
      "[[ 0.02900643 -0.03969981  0.02920654 ...  0.04757527 -0.01917132\n",
      "  -0.01472931]\n",
      " [ 0.01358889 -0.07393813  0.0298319  ...  0.01244734  0.07311949\n",
      "  -0.01819833]\n",
      " [ 0.08341126 -0.11538616  0.00016828 ... -0.02274583  0.00490523\n",
      "   0.05907445]]\n"
     ]
    }
   ],
   "source": [
    "from sentence_transformers import SentenceTransformer\n",
    "\n",
    "model = SentenceTransformer('sentence-transformers/all-MiniLM-L6-v2')"
   ]
  },
  {
   "cell_type": "code",
   "execution_count": 24,
   "id": "e1bd9691",
   "metadata": {},
   "outputs": [],
   "source": [
    "def cosSim(A, B):\n",
    "    return np.dot(A, B)/(np.linalg.norm(A) * np.linalg.norm(B))"
   ]
  },
  {
   "cell_type": "code",
   "execution_count": null,
   "id": "c2edebb4",
   "metadata": {},
   "outputs": [],
   "source": [
    "businesses = ['Caje', 'Blenders', 'George']\n",
    "categories = ['Food, Internet Cafes, Coffee & Tea, Acai Bowls, Juice Bars & Smoothies, Bagels',\n",
    " 'Juice Bars & Smoothies, American (Traditional), Food, Restaurants',\n",
    " 'Real Estate, Property Management, University Housing, Apartments, Real Estate Agents, Home Services']\n",
    "embeddings = model.encode(categories)"
   ]
  },
  {
   "cell_type": "code",
   "execution_count": 30,
   "id": "1e4ac182",
   "metadata": {},
   "outputs": [
    {
     "name": "stdout",
     "output_type": "stream",
     "text": [
      "Caje/Blender: 0.7490094900131226\n",
      "Caje/George: 0.11996615678071976\n"
     ]
    }
   ],
   "source": [
    "print(f\"Caje/Blender: {cosSim(embeddings[0], embeddings[1])}\")\n",
    "print(f\"Caje/George: {cosSim(embeddings[0], embeddings[2])}\")"
   ]
  },
  {
   "cell_type": "code",
   "execution_count": null,
   "id": "b56ca85e",
   "metadata": {},
   "outputs": [],
   "source": []
  },
  {
   "cell_type": "code",
   "execution_count": 32,
   "id": "dedee7ac",
   "metadata": {},
   "outputs": [
    {
     "name": "stderr",
     "output_type": "stream",
     "text": [
      "Batches: 100%|██████████| 4699/4699 [04:20<00:00, 18.06it/s]\n"
     ]
    }
   ],
   "source": [
    "embeddings = model.encode(yelp_data['categories'].astype(str).tolist(), show_progress_bar=True)\n",
    "\n",
    "# Convert embeddings to a DataFrame with 384 columns\n",
    "embedding_df = pd.DataFrame(embeddings, columns=[f'cat_emb_{i}' for i in range(384)])"
   ]
  },
  {
   "cell_type": "code",
   "execution_count": null,
   "id": "0539cbe8",
   "metadata": {},
   "outputs": [],
   "source": [
    "embedding_df.to_csv(\"./Data/embeddings.csv\", index=False)"
   ]
  }
 ],
 "metadata": {
  "kernelspec": {
   "display_name": "Python 3",
   "language": "python",
   "name": "python3"
  },
  "language_info": {
   "codemirror_mode": {
    "name": "ipython",
    "version": 3
   },
   "file_extension": ".py",
   "mimetype": "text/x-python",
   "name": "python",
   "nbconvert_exporter": "python",
   "pygments_lexer": "ipython3",
   "version": "3.12.3"
  }
 },
 "nbformat": 4,
 "nbformat_minor": 5
}
